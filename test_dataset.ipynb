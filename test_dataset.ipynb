{
 "cells": [
  {
   "cell_type": "code",
   "execution_count": 2,
   "metadata": {},
   "outputs": [],
   "source": [
    "import os, json\n",
    "import tensorflow as tf\n",
    "import numpy as np\n",
    "\n",
    "from matplotlib import pyplot as plt"
   ]
  },
  {
   "cell_type": "code",
   "execution_count": 46,
   "metadata": {},
   "outputs": [],
   "source": [
    "root_path = \"/home/files/datasets/PF-dataset-PASCAL\"\n",
    "annotation_dir = os.path.join(root_path, \"PF-dataset-PASCAL/Annotations\")\n",
    "image_dir = os.path.join(root_path, \"PF-dataset-PASCAL/JPEGImages\")\n",
    "class_names = [name for name in os.listdir(annotation_dir) if name != '.DS_Store']"
   ]
  },
  {
   "cell_type": "code",
   "execution_count": 47,
   "metadata": {},
   "outputs": [],
   "source": [
    "list_ds = tf.data.Dataset.list_files(annotation_dir+'/*/*')"
   ]
  },
  {
   "cell_type": "code",
   "execution_count": 48,
   "metadata": {},
   "outputs": [
    {
     "name": "stdout",
     "output_type": "stream",
     "text": [
      "tf.Tensor(b'/home/files/datasets/PF-dataset-PASCAL/PF-dataset-PASCAL/Annotations/motorbike/2008_005893.mat', shape=(), dtype=string)\n"
     ]
    }
   ],
   "source": [
    "for i in list_ds.take(1):\n",
    "    print(i)"
   ]
  },
  {
   "cell_type": "code",
   "execution_count": 49,
   "metadata": {},
   "outputs": [
    {
     "name": "stdout",
     "output_type": "stream",
     "text": [
      "tf.Tensor(b'aeroplane', shape=(), dtype=string) tf.Tensor(\n",
      "[[[ 96.37038  132.37036  156.37036 ]\n",
      "  [ 97.       133.       157.      ]\n",
      "  [ 97.666664 133.66667  157.66667 ]\n",
      "  ...\n",
      "  [102.38887  138.38887  162.38887 ]\n",
      "  [103.05556  139.05556  163.05556 ]\n",
      "  [103.05556  139.05556  163.05556 ]]\n",
      "\n",
      " [[ 97.       133.       157.      ]\n",
      "  [ 97.       133.       157.      ]\n",
      "  [ 97.72222  133.72223  157.72223 ]\n",
      "  ...\n",
      "  [103.33331  139.33331  163.33331 ]\n",
      "  [104.       140.       164.      ]\n",
      "  [104.       140.       164.      ]]\n",
      "\n",
      " [[ 97.       133.       157.      ]\n",
      "  [ 97.27778  133.27777  157.27777 ]\n",
      "  [ 98.18519  134.18518  158.18518 ]\n",
      "  ...\n",
      "  [103.33331  139.33331  163.33331 ]\n",
      "  [104.       140.       164.      ]\n",
      "  [104.       140.       164.      ]]\n",
      "\n",
      " ...\n",
      "\n",
      " [[124.72223  157.72223  176.72223 ]\n",
      "  [125.       158.       177.      ]\n",
      "  [124.333336 157.33333  176.33333 ]\n",
      "  ...\n",
      "  [130.09265  163.09265  180.09265 ]\n",
      "  [128.27777  161.27777  178.27777 ]\n",
      "  [128.27777  161.27777  178.27777 ]]\n",
      "\n",
      " [[125.       158.       177.      ]\n",
      "  [125.       158.       177.      ]\n",
      "  [124.333336 157.33333  176.33333 ]\n",
      "  ...\n",
      "  [130.27783  163.27783  180.27783 ]\n",
      "  [128.83334  161.83334  178.83334 ]\n",
      "  [128.83334  161.83334  178.83334 ]]\n",
      "\n",
      " [[125.       158.       177.      ]\n",
      "  [125.       158.       177.      ]\n",
      "  [124.333336 157.33333  176.33333 ]\n",
      "  ...\n",
      "  [130.96297  163.96297  180.96297 ]\n",
      "  [130.88892  163.88892  180.88892 ]\n",
      "  [130.88892  163.88892  180.88892 ]]], shape=(180, 180, 3), dtype=float32)\n"
     ]
    }
   ],
   "source": [
    "def get_label(path):\n",
    "    label = tf.strings.split(path, '/')[-2]\n",
    "    return label\n",
    "def get_image_path(path):\n",
    "    filename = tf.strings.split(path, '/')[-1]\n",
    "    filename = tf.strings.split(filename, '.')[-2]\n",
    "    image_path = tf.strings.join([image_dir, '/', filename, '.jpg'])\n",
    "    return image_path\n",
    "def decode_img(file_path):\n",
    "    img = tf.io.read_file(file_path)  \n",
    "    # convert the compressed string to a 3D uint8 tensor\n",
    "    img = tf.image.decode_jpeg(img, channels=3)\n",
    "    # resize the image to the desired size\n",
    "    return tf.image.resize(img, [180, 180])\n",
    "def process_path(path):\n",
    "    label = get_label(path)\n",
    "    image_path = get_image_path(path)\n",
    "    img = decode_img(image_path)\n",
    "    return label, img\n",
    "\n",
    "\n",
    "\n",
    "\n",
    "processed_ds = list_ds.map(process_path)\n",
    "\n",
    "for label,path in processed_ds.take(1):\n",
    "    print(label, path)"
   ]
  },
  {
   "cell_type": "code",
   "execution_count": 53,
   "metadata": {},
   "outputs": [
    {
     "data": {
      "text/plain": [
       "0.0"
      ]
     },
     "execution_count": 53,
     "metadata": {},
     "output_type": "execute_result"
    }
   ],
   "source": [
    "np.min(path)"
   ]
  },
  {
   "cell_type": "code",
   "execution_count": 45,
   "metadata": {},
   "outputs": [
    {
     "name": "stdout",
     "output_type": "stream",
     "text": [
      "PF-dataset-PASCAL  __MACOSX\r\n"
     ]
    }
   ],
   "source": [
    "!ls /home/files/datasets/PF-dataset-PASCAL"
   ]
  },
  {
   "cell_type": "code",
   "execution_count": 29,
   "metadata": {},
   "outputs": [],
   "source": [
    "filename = tf.strings.split(i, '/')"
   ]
  },
  {
   "cell_type": "code",
   "execution_count": 24,
   "metadata": {},
   "outputs": [
    {
     "data": {
      "text/plain": [
       "<tf.Tensor: shape=(), dtype=string, numpy=b'/home/files/datasets/PF-dataset-PASCAL/JPEGImages2009_005103.mat'>"
      ]
     },
     "execution_count": 24,
     "metadata": {},
     "output_type": "execute_result"
    }
   ],
   "source": [
    "tf.strings.join([image_dir, filename])"
   ]
  },
  {
   "cell_type": "code",
   "execution_count": 31,
   "metadata": {},
   "outputs": [
    {
     "data": {
      "text/plain": [
       "<tf.Tensor: shape=(), dtype=string, numpy=b'dog'>"
      ]
     },
     "execution_count": 31,
     "metadata": {},
     "output_type": "execute_result"
    }
   ],
   "source": [
    "filename[-2]"
   ]
  },
  {
   "cell_type": "code",
   "execution_count": 33,
   "metadata": {},
   "outputs": [
    {
     "data": {
      "text/plain": [
       "<tf.Tensor: shape=(20,), dtype=bool, numpy=\n",
       "array([False, False, False, False, False, False, False, False,  True,\n",
       "       False, False, False, False, False, False, False, False, False,\n",
       "       False, False])>"
      ]
     },
     "execution_count": 33,
     "metadata": {},
     "output_type": "execute_result"
    }
   ],
   "source": [
    "filename[-2] == class_names"
   ]
  },
  {
   "cell_type": "code",
   "execution_count": 34,
   "metadata": {},
   "outputs": [
    {
     "data": {
      "text/plain": [
       "<tf.Tensor: shape=(), dtype=int64, numpy=8>"
      ]
     },
     "execution_count": 34,
     "metadata": {},
     "output_type": "execute_result"
    }
   ],
   "source": [
    "tf.argmax(filename[-2] == class_names)"
   ]
  },
  {
   "cell_type": "code",
   "execution_count": 35,
   "metadata": {},
   "outputs": [
    {
     "data": {
      "text/plain": [
       "1351"
      ]
     },
     "execution_count": 35,
     "metadata": {},
     "output_type": "execute_result"
    }
   ],
   "source": [
    "len(list_ds)"
   ]
  },
  {
   "cell_type": "code",
   "execution_count": null,
   "metadata": {},
   "outputs": [],
   "source": []
  }
 ],
 "metadata": {
  "kernelspec": {
   "display_name": "Python 3",
   "language": "python",
   "name": "python3"
  },
  "language_info": {
   "codemirror_mode": {
    "name": "ipython",
    "version": 3
   },
   "file_extension": ".py",
   "mimetype": "text/x-python",
   "name": "python",
   "nbconvert_exporter": "python",
   "pygments_lexer": "ipython3",
   "version": "3.6.9"
  }
 },
 "nbformat": 4,
 "nbformat_minor": 4
}
